{
 "cells": [
  {
   "cell_type": "markdown",
   "metadata": {
    "deletable": true,
    "editable": true
   },
   "source": [
    "# Paper Review on PR12 (Tensorflow-KR Paper Reading Group)\n",
    "\n",
    "## Paper #1\n",
    " * **Title**: Borrowing Treasures From the Wealthy: Deep Transfer Learning Through Selective Joint Fine-Tuning\n",
    " * **Link**: https://arxiv.org/abs/1702.08690\n",
    " * **Authors**: Weifeng Ge, Yizhou Yu\n",
    " \n",
    "## Paper #2\n",
    " * **Title**: The More You Know: Using Knowledge Graphs for Image Classification\n",
    " * **Link**: https://arxiv.org/abs/1612.04844\n",
    " * **Authors**: Kenneth Marino, Ruslan Salakhutdinov, Abhinav Gupta\n",
    "\n",
    "## Paper #3\n",
    " * **Title**: On Compressing Deep Models by Low Rank and Sparse Decomposition\n",
    " * **Link**: http://openaccess.thecvf.com/content_cvpr_2017/papers/Yu_On_Compressing_Deep_CVPR_2017_paper.pdf\n",
    " * **Authors**: Xiyu Yu, Tongliang Liu, Xinchao Wang, Dacheng Tao\n",
    "\n",
    " \n",
    "## Summary\n",
    "* [Presentation material (Slideshare)](https://www.slideshare.net/TaegyunJeon1/pr12-pr026-notes-for-cvpr-machine-learning-sessions)\n",
    "* Paper reviewed on 23th July, 2017\n",
    "\n",
    "## Review video"
   ]
  },
  {
   "cell_type": "code",
   "execution_count": 1,
   "metadata": {
    "collapsed": false
   },
   "outputs": [
    {
     "data": {
      "text/html": [
       "<iframe width=\"560\" height=\"315\" src=\"https://www.youtube.com/embed/ZdPBkPGfRSk\" frameborder=\"0\" allowfullscreen></iframe>"
      ],
      "text/plain": [
       "<IPython.core.display.HTML object>"
      ]
     },
     "execution_count": 1,
     "metadata": {},
     "output_type": "execute_result"
    }
   ],
   "source": [
    "from IPython.display import HTML\n",
    "HTML('<iframe width=\"560\" height=\"315\" src=\"https://www.youtube.com/embed/ZdPBkPGfRSk\" frameborder=\"0\" allowfullscreen></iframe>')"
   ]
  }
 ],
 "metadata": {
  "kernelspec": {
   "display_name": "Python 3",
   "language": "python",
   "name": "python3"
  },
  "language_info": {
   "codemirror_mode": {
    "name": "ipython",
    "version": 3
   },
   "file_extension": ".py",
   "mimetype": "text/x-python",
   "name": "python",
   "nbconvert_exporter": "python",
   "pygments_lexer": "ipython3",
   "version": "3.4.3"
  }
 },
 "nbformat": 4,
 "nbformat_minor": 2
}
