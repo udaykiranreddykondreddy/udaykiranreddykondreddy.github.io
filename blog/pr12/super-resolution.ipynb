{
 "cells": [
  {
   "cell_type": "markdown",
   "metadata": {
    "deletable": true,
    "editable": true
   },
   "source": [
    "# Paper Review on PR12 (Tensorflow-KR Paper Reading Group)\n",
    "\n",
    "## Paper\n",
    " * **Title**: Image Super-Resolution Using Deep Convolutional Networks (ECCV 2014)\n",
    " * **Link**: https://arxiv.org/abs/1501.00092\n",
    " * **Authors**: Chao Dong, Chen Change Loy, Kaiming He, Xiaoou Tang\n",
    " \n",
    "## Summary\n",
    "* [Presentation material (Slideshare)](https://www.slideshare.net/TaegyunJeon1/pr12-image-super-resolution-using-deep-convolutional-networks)\n",
    "* Paper reviewed on 16th April, 2017\n",
    "\n",
    "## Review video"
   ]
  },
  {
   "cell_type": "code",
   "execution_count": 2,
   "metadata": {
    "collapsed": false,
    "deletable": true,
    "editable": true
   },
   "outputs": [
    {
     "data": {
      "text/html": [
       "<iframe width=\"560\" height=\"315\" src=\"https://www.youtube.com/embed/1jGr_OFyfa0?list=PLlMkM4tgfjnJhhd4wn5aj8fVTYJwIpWkS\" frameborder=\"0\" allowfullscreen></iframe>"
      ],
      "text/plain": [
       "<IPython.core.display.HTML object>"
      ]
     },
     "execution_count": 2,
     "metadata": {},
     "output_type": "execute_result"
    }
   ],
   "source": [
    "from IPython.display import HTML\n",
    "HTML('<iframe width=\"560\" height=\"315\" src=\"https://www.youtube.com/embed/1jGr_OFyfa0?list=PLlMkM4tgfjnJhhd4wn5aj8fVTYJwIpWkS\" frameborder=\"0\" allowfullscreen></iframe>')"
   ]
  }
 ],
 "metadata": {
  "kernelspec": {
   "display_name": "Python 3",
   "language": "python",
   "name": "python3"
  },
  "language_info": {
   "codemirror_mode": {
    "name": "ipython",
    "version": 3
   },
   "file_extension": ".py",
   "mimetype": "text/x-python",
   "name": "python",
   "nbconvert_exporter": "python",
   "pygments_lexer": "ipython3",
   "version": "3.4.3"
  }
 },
 "nbformat": 4,
 "nbformat_minor": 2
}
