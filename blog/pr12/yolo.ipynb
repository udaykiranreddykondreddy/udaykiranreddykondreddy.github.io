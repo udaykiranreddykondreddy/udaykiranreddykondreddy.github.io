{
 "cells": [
  {
   "cell_type": "markdown",
   "metadata": {
    "deletable": true,
    "editable": true
   },
   "source": [
    "# Paper Review on PR12 (Tensorflow-KR Paper Reading Group)\n",
    "\n",
    "## Paper\n",
    " * **Title**: You Only Look Once: Unified, Real-Time Object Detection (CVPR 2016)\n",
    " * **Link**: https://arxiv.org/abs/1506.02640\n",
    " * **Authors**: Joseph Redmon, Santosh Divvala, Ross Girshick, Ali Farhadi\n",
    " \n",
    "## Summary\n",
    " \n",
    "* [Presentation material (Slideshare)](https://www.slideshare.net/TaegyunJeon1/pr12-you-only-look-once-yolo-unified-realtime-object-detection)\n",
    "* Paper reviewed on 18th June, 2017\n",
    "\n",
    "## Review video"
   ]
  },
  {
   "cell_type": "code",
   "execution_count": 1,
   "metadata": {
    "collapsed": false
   },
   "outputs": [
    {
     "data": {
      "text/html": [
       "<iframe width=\"560\" height=\"315\" src=\"https://www.youtube.com/embed/eTDcoeqj1_w\" frameborder=\"0\" allowfullscreen></iframe>"
      ],
      "text/plain": [
       "<IPython.core.display.HTML object>"
      ]
     },
     "execution_count": 1,
     "metadata": {},
     "output_type": "execute_result"
    }
   ],
   "source": [
    "from IPython.display import HTML\n",
    "HTML('<iframe width=\"560\" height=\"315\" src=\"https://www.youtube.com/embed/eTDcoeqj1_w\" frameborder=\"0\" allowfullscreen></iframe>')"
   ]
  }
 ],
 "metadata": {
  "kernelspec": {
   "display_name": "Python 3",
   "language": "python",
   "name": "python3"
  },
  "language_info": {
   "codemirror_mode": {
    "name": "ipython",
    "version": 3
   },
   "file_extension": ".py",
   "mimetype": "text/x-python",
   "name": "python",
   "nbconvert_exporter": "python",
   "pygments_lexer": "ipython3",
   "version": "3.4.3"
  }
 },
 "nbformat": 4,
 "nbformat_minor": 2
}
