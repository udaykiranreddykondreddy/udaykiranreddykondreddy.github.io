{
 "cells": [
  {
   "cell_type": "markdown",
   "metadata": {
    "deletable": true,
    "editable": true
   },
   "source": [
    "# Distilling the Knowledge in a Neural Network\n",
    "## 1. Basic Information\n",
    "\n",
    "- Authors: Geoffrey Hinton, Oriol Vinyals, Jeff Dean\n",
    "- Paper status: NIPS 2014 Deep Learning Workshop\n",
    "- Link: https://arxiv.org/abs/1503.02531"
   ]
  },
  {
   "cell_type": "markdown",
   "metadata": {
    "deletable": true,
    "editable": true
   },
   "source": [
    "## 2. Summary\n",
    "### 2.1. Key Idea\n",
    "* Can use unlabeled data to transfer knowledge, but using the same training data seems to work well in practice.\n",
    "* Use softmax with temperature, values from 1-10 seem to work well, depending on the problem.\n",
    "* The MNIST networks learn to recognize digits without ever having seen base, solely based on the \"errors\" that the teacher network makes. (Bias needs to be adjusted)\n",
    "\n",
    "### 2.2. Contributions\n",
    "* Training on soft targets with less data performs much better than training on hard targets with same amount of data."
   ]
  },
  {
   "cell_type": "markdown",
   "metadata": {
    "deletable": true,
    "editable": true
   },
   "source": [
    "## 3. Explanation\n",
    "* PR12에서 정영재님이 멋지게 발표해주신 내용이 있으니 이걸 참고하도록 합시다."
   ]
  },
  {
   "cell_type": "code",
   "execution_count": 2,
   "metadata": {
    "collapsed": false,
    "deletable": true,
    "editable": true
   },
   "outputs": [
    {
     "data": {
      "text/html": [
       "<iframe width=\"560\" height=\"315\" src=\"https://www.youtube.com/embed/tOItokBZSfU?list=PLlMkM4tgfjnJhhd4wn5aj8fVTYJwIpWkS\" frameborder=\"0\" allowfullscreen></iframe>"
      ],
      "text/plain": [
       "<IPython.core.display.HTML object>"
      ]
     },
     "execution_count": 2,
     "metadata": {},
     "output_type": "execute_result"
    }
   ],
   "source": [
    "from IPython.display import HTML\n",
    "HTML('<iframe width=\"560\" height=\"315\" src=\"https://www.youtube.com/embed/tOItokBZSfU?list=PLlMkM4tgfjnJhhd4wn5aj8fVTYJwIpWkS\" frameborder=\"0\" allowfullscreen></iframe>')"
   ]
  },
  {
   "cell_type": "markdown",
   "metadata": {
    "deletable": true,
    "editable": true
   },
   "source": [
    "## 4. TensorFlow Implementation\n",
    "무엇을 만들어야 하는가?\n",
    "* "
   ]
  },
  {
   "cell_type": "code",
   "execution_count": null,
   "metadata": {
    "collapsed": true,
    "deletable": true,
    "editable": true
   },
   "outputs": [],
   "source": []
  }
 ],
 "metadata": {
  "kernelspec": {
   "display_name": "Python 3",
   "language": "python",
   "name": "python3"
  },
  "language_info": {
   "codemirror_mode": {
    "name": "ipython",
    "version": 3
   },
   "file_extension": ".py",
   "mimetype": "text/x-python",
   "name": "python",
   "nbconvert_exporter": "python",
   "pygments_lexer": "ipython3",
   "version": "3.4.3"
  }
 },
 "nbformat": 4,
 "nbformat_minor": 2
}
